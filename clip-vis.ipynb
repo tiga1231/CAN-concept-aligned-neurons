{
 "cells": [
  {
   "cell_type": "code",
   "execution_count": null,
   "id": "726531a6-c443-49fb-a914-31b53be0c1f6",
   "metadata": {},
   "outputs": [],
   "source": [
    "import torch\n",
    "import numpy as np"
   ]
  },
  {
   "cell_type": "code",
   "execution_count": null,
   "id": "746ba257-1d91-4273-8d3f-688d50920faa",
   "metadata": {},
   "outputs": [],
   "source": [
    "image_features = torch.load('saved_activations/imagenet_val_ViT-B16.pt', map_location=\"cpu\").float()\n",
    "text_features = torch.load('saved_activations/20k_ViT-B16.pt', map_location=\"cpu\").float()\n",
    "# text_features = torch.load('saved_activations/wordnet_hierarchy_ViT-B16.pt', map_location=\"cpu\").float()\n",
    "with torch.no_grad():\n",
    "  image_features /= image_features.norm(dim=-1, keepdim=True)\n",
    "  text_features /= text_features.norm(dim=-1, keepdim=True)\n",
    "  clip_feats = image_features @ text_features.T\n",
    "del image_features, text_features\n",
    "torch.cuda.empty_cache()"
   ]
  },
  {
   "cell_type": "code",
   "execution_count": null,
   "id": "3401e7a5-0722-4aec-9549-524f6a5797ec",
   "metadata": {},
   "outputs": [],
   "source": [
    "with open('data/20k.txt') as f:\n",
    "    concepts = [line.strip() for line in f]"
   ]
  },
  {
   "cell_type": "code",
   "execution_count": null,
   "id": "4dfb24e7-a310-4eae-a431-15ca92e8dde1",
   "metadata": {},
   "outputs": [],
   "source": [
    "len(concepts), clip_feats.shape"
   ]
  },
  {
   "cell_type": "code",
   "execution_count": null,
   "id": "1a38a832-991f-4fdc-ad41-5a2249b72f6d",
   "metadata": {},
   "outputs": [],
   "source": [
    "torch.save(clip_feats, 'my_data/image_concept_similarities.pt')"
   ]
  },
  {
   "cell_type": "code",
   "execution_count": null,
   "id": "79d1a2a7-cf33-4596-8763-1fe3cbe6b9ac",
   "metadata": {},
   "outputs": [],
   "source": [
    "image_top_concepts = clip_feats.topk(20, dim=1).indices\n",
    "# torch.save(image_top_concepts, 'my_data/clip_image_top_concepts.pt')\n",
    "np.save('my_data/clip_image_top_concepts.npy', image_top_concepts.numpy().astype(np.int32))\n",
    "\n",
    "# image_top_concepts = [[concepts[i] for i in row] for row in image_top_concepts]"
   ]
  },
  {
   "cell_type": "code",
   "execution_count": null,
   "id": "88301b1c-d0d7-4736-84ac-1c6e7ebc3c3a",
   "metadata": {},
   "outputs": [],
   "source": [
    "concept_top_images = clip_feats.topk(20, dim=0).indices.T\n",
    "# torch.save(concept_top_images, 'my_data/clip_concept_top_images.pt')\n"
   ]
  },
  {
   "cell_type": "code",
   "execution_count": null,
   "id": "adb6cae7-6179-4426-8022-122b42942b51",
   "metadata": {},
   "outputs": [],
   "source": [
    "np.save('my_data/clip_concept_top_images.npy', concept_top_images.numpy().astype(np.int32))\n"
   ]
  },
  {
   "cell_type": "code",
   "execution_count": null,
   "id": "7744aa8a-7e19-4a2c-933f-af3a3b42b625",
   "metadata": {},
   "outputs": [],
   "source": []
  }
 ],
 "metadata": {
  "kernelspec": {
   "display_name": "Python 3 (ipykernel)",
   "language": "python",
   "name": "python3"
  },
  "language_info": {
   "codemirror_mode": {
    "name": "ipython",
    "version": 3
   },
   "file_extension": ".py",
   "mimetype": "text/x-python",
   "name": "python",
   "nbconvert_exporter": "python",
   "pygments_lexer": "ipython3",
   "version": "3.10.13"
  }
 },
 "nbformat": 4,
 "nbformat_minor": 5
}
