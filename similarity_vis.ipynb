{
 "cells": [
  {
   "cell_type": "code",
   "execution_count": null,
   "id": "d3ed3927",
   "metadata": {},
   "outputs": [],
   "source": [
    "# a box of mixed biscuit and biscuit mixture"
   ]
  },
  {
   "cell_type": "code",
   "execution_count": null,
   "id": "18aea77c",
   "metadata": {},
   "outputs": [],
   "source": [
    "# import jupyter_black\n",
    "\n",
    "# jupyter_black.load(lab=False)"
   ]
  },
  {
   "cell_type": "code",
   "execution_count": null,
   "id": "8dfbd705",
   "metadata": {},
   "outputs": [],
   "source": [
    "import torch\n",
    "import numpy as np\n",
    "from umap import UMAP\n",
    "\n",
    "from tqdm.auto import tqdm\n",
    "import matplotlib.pyplot as plt\n",
    "from matplotlib import colormaps\n",
    "\n",
    "plt.style.use(\"ggplot\")\n",
    "plt.style.use(\"seaborn-v0_8-colorblind\")"
   ]
  },
  {
   "cell_type": "code",
   "execution_count": null,
   "id": "ad0f38e4",
   "metadata": {},
   "outputs": [],
   "source": [
    "with open(\"./data/20k.txt\") as f:\n",
    "    vocabulary = [v.strip() for v in f]\n",
    "\", \".join(vocabulary[:20])\n",
    "\n",
    "similarity_load = torch.load(\"./my_data/all_layer_similarities.pt\")\n",
    "print(\"similarity_load\", type(similarity_load), len(similarity_load))\n",
    "\n",
    "sim = similarity_load[0][\"similarities\"]\n",
    "print(\"sim:\", similarity_load[0][\"layer\"], sim.shape)\n",
    "\n",
    "layer_names = [s[\"layer\"] for s in similarity_load]\n",
    "layer_widths = [s[\"similarities\"].shape[0] for s in similarity_load]\n",
    "print(\"layer_names\", layer_names)\n",
    "print(\"layer_widths\", layer_widths)\n",
    "\n",
    "all_layer_similarity = torch.concat([s[\"similarities\"] for s in similarity_load])\n",
    "layer_numbers = torch.concat(\n",
    "    [\n",
    "        torch.zeros(s[\"similarities\"].shape[0], dtype=torch.int) + i\n",
    "        for i, s in enumerate(similarity_load)\n",
    "    ]\n",
    ")\n",
    "print(\"all_layer_similarity.shape =\", all_layer_similarity.shape)\n",
    "\n",
    "plt.figure(figsize=[4, 2])\n",
    "plt.plot(layer_numbers)\n",
    "plt.title(\"layer_numbers\")\n",
    "plt.show()"
   ]
  },
  {
   "cell_type": "markdown",
   "id": "b991aa55",
   "metadata": {},
   "source": [
    "## Save concepts to file"
   ]
  },
  {
   "cell_type": "code",
   "execution_count": null,
   "id": "1842ab9b",
   "metadata": {},
   "outputs": [],
   "source": [
    "# all_layer_similarity.numpy().to(\"all_layer_similarity.npy\")"
   ]
  },
  {
   "cell_type": "code",
   "execution_count": null,
   "id": "b92276e8",
   "metadata": {},
   "outputs": [],
   "source": [
    "## Plot neuron-concepts similaries per neuron\n",
    "\n",
    "for l, layer_name in enumerate(layer_names):\n",
    "    sim = similarity_load[l][\"similarities\"]\n",
    "\n",
    "    for neuron_index, s in enumerate(tqdm(sim)):\n",
    "        ranked_vocabulary_indices = list(np.argsort(s))[::-1]\n",
    "\n",
    "        top = 20\n",
    "        top_concepts = [vocabulary[r] for r in ranked_vocabulary_indices[:top]]\n",
    "        top_concepts_str = \"\\n\".join(\n",
    "            \", \".join(top_concepts[i : i + 5]) for i in range(0, top, 5)\n",
    "        )\n",
    "        bottom_concepts = [vocabulary[r] for r in ranked_vocabulary_indices[-top:]]\n",
    "        bottom_concepts_str = \"\\n\".join(\n",
    "            \", \".join(bottom_concepts[i : i + 5]) for i in range(0, top, 5)\n",
    "        )\n",
    "\n",
    "        #         print(f\"[{layer_name}, neuron {neuron_index}]\\n\" \"-\" * 10 + \"\\n\")\n",
    "        #         f.write(f'Top {len(top_concepts)} concepts:\\n')\n",
    "        #         f.write(top_concepts_str + '\\n')\n",
    "        #         f.write('-'*10 + '\\n')\n",
    "        #         f.write(f'Bottom {len(bottom_concepts)} concepts:\\n')\n",
    "        #         f.write(bottom_concepts_str+ '\\n')\n",
    "        #         f.write('\\n')\n",
    "\n",
    "        #         plt.figure(figsize=[4, 3], dpi=80)\n",
    "        #         plt.stem(s[ranked_vocabulary_indices])\n",
    "        #         plt.title(\n",
    "        #             f\"{layer_name}, neuron {neuron_index}\\n\"\n",
    "        #             #         f'Top {len(top_concepts)} concepts: \\n{top_concepts_str}'\n",
    "        #         )\n",
    "\n",
    "        plt.figure(figsize=[4, 3], dpi=80)\n",
    "        plt.hist(s, bins=100)\n",
    "        plt.xlabel(\"neuron-concept relatedness\")\n",
    "        plt.ylabel(\"Count of concepts (total = 20k words)\")\n",
    "        plt.show()\n",
    "\n",
    "        if neuron_index >= 20:\n",
    "            break"
   ]
  },
  {
   "cell_type": "code",
   "execution_count": null,
   "id": "ba9ef120",
   "metadata": {},
   "outputs": [],
   "source": [
    "## Save top and bottom 20 concepts as text files\n",
    "\n",
    "for l, layer_name in enumerate(layer_names):\n",
    "    sim = similarity_load[l]['similarities']\n",
    "\n",
    "    with open(f'neuron-concepts-{layer_name}.txt', 'w') as f:\n",
    "        print(f'# {layer_name}\\n')\n",
    "        f.write(f'# {layer_name}\\n')\n",
    "        for neuron_index, s in enumerate(tqdm(sim)):\n",
    "            ranked_vocabulary_indices = list(np.argsort(s))[::-1]\n",
    "\n",
    "            top = 20\n",
    "            top_concepts = [vocabulary[r] for r in ranked_vocabulary_indices[:top]]\n",
    "            top_concepts_str = '\\n'.join(', '.join(top_concepts[i:i+5]) for i in range(0, top, 5))\n",
    "            bottom_concepts = [vocabulary[r] for r in ranked_vocabulary_indices[-top:]]\n",
    "            bottom_concepts_str = '\\n'.join(', '.join(bottom_concepts[i:i+5]) for i in range(0, top, 5))\n",
    "\n",
    "            f.write(f'[{layer_name}, neuron {neuron_index}]\\n')\n",
    "            f.write('-'*10 + '\\n')\n",
    "            f.write(f'Top {len(top_concepts)} concepts:\\n')\n",
    "            f.write(top_concepts_str + '\\n')\n",
    "            f.write('-'*10 + '\\n')\n",
    "            f.write(f'Bottom {len(bottom_concepts)} concepts:\\n')\n",
    "            f.write(bottom_concepts_str+ '\\n')\n",
    "            f.write('\\n')\n",
    "\n",
    "            plt.figure(figsize=[4,3], dpi=80)\n",
    "            plt.stem(s[ranked_vocabulary_indices])\n",
    "            plt.title(\n",
    "                f'{layer_name}, neuron {neuron_index}\\n'\n",
    "        #         f'Top {len(top_concepts)} concepts: \\n{top_concepts_str}'\n",
    "            )    \n",
    "            plt.show()\n",
    "\n",
    "#         if neuron_index>=20:\n",
    "#             break\n",
    "\n",
    "\n"
   ]
  },
  {
   "cell_type": "markdown",
   "id": "354f582a",
   "metadata": {},
   "source": [
    "## Neuron UMAP"
   ]
  },
  {
   "cell_type": "code",
   "execution_count": null,
   "id": "ff7abed2",
   "metadata": {},
   "outputs": [],
   "source": [
    "umap = UMAP(n_components=2).fit_transform(all_layer_similarity.numpy())"
   ]
  },
  {
   "cell_type": "code",
   "execution_count": null,
   "id": "e0404ee2",
   "metadata": {},
   "outputs": [],
   "source": [
    "cmap = colormaps['viridis'].resampled(5).colors\n",
    "\n",
    "for ln in set(layer_numbers.tolist()):\n",
    "    plt.scatter(\n",
    "        umap[layer_numbers==ln,0], \n",
    "        umap[layer_numbers==ln,1], \n",
    "        s=10,\n",
    "        color=cmap[ln],\n",
    "        label=f'layer {ln} ({layer_names[ln]})',\n",
    "        linewidth=0.1,\n",
    "        edgecolors='#333'\n",
    "    )\n",
    "plt.axis('equal')\n",
    "plt.legend()\n",
    "plt.show()"
   ]
  },
  {
   "cell_type": "code",
   "execution_count": null,
   "id": "37a9b306",
   "metadata": {},
   "outputs": [],
   "source": [
    "#TODO? SpectralCoclustering\n",
    "\n",
    "from sklearn.cluster import SpectralCoclustering\n",
    "\n",
    "clustering = SpectralCoclustering().fit(im)\n",
    "\n",
    "row = np.argsort(clustering.row_labels_)\n",
    "col = np.argsort(clustering.column_labels_)\n"
   ]
  },
  {
   "cell_type": "code",
   "execution_count": null,
   "id": "fd239846",
   "metadata": {},
   "outputs": [],
   "source": []
  }
 ],
 "metadata": {
  "kernelspec": {
   "display_name": "Python 3 (ipykernel)",
   "language": "python",
   "name": "python3"
  },
  "language_info": {
   "codemirror_mode": {
    "name": "ipython",
    "version": 3
   },
   "file_extension": ".py",
   "mimetype": "text/x-python",
   "name": "python",
   "nbconvert_exporter": "python",
   "pygments_lexer": "ipython3",
   "version": "3.8.10"
  }
 },
 "nbformat": 4,
 "nbformat_minor": 5
}
