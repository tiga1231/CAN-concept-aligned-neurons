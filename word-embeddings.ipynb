{
 "cells": [
  {
   "cell_type": "markdown",
   "id": "27217f31",
   "metadata": {},
   "source": [
    "*\"A box of mixed biscuit and biscuit mixture\"*"
   ]
  },
  {
   "cell_type": "code",
   "execution_count": null,
   "id": "d37af6ed",
   "metadata": {},
   "outputs": [],
   "source": [
    "with open('data/nouns_and_adjectives_unclean.txt') as f:\n",
    "    words = [w.strip() for w in f]\n",
    "    \n",
    "## remove redundancy\n",
    "word_list = []\n",
    "word_set = set()\n",
    "\n",
    "for w in words:\n",
    "    if w not in word_set:\n",
    "        word_list.append(w)\n",
    "        word_set.update([w])\n",
    "    else:\n",
    "        continue\n",
    "\n",
    "with open('data/nouns_and_adjectives.txt', 'w') as f:\n",
    "    f.write('\\n'.join(word_list))"
   ]
  },
  {
   "cell_type": "code",
   "execution_count": null,
   "id": "18aea77c",
   "metadata": {},
   "outputs": [],
   "source": [
    "# import jupyter_black\n",
    "\n",
    "# jupyter_black.load()"
   ]
  },
  {
   "cell_type": "code",
   "execution_count": null,
   "id": "8a4d7805",
   "metadata": {},
   "outputs": [],
   "source": [
    "# !tree -L 2"
   ]
  },
  {
   "cell_type": "code",
   "execution_count": null,
   "id": "8dfbd705",
   "metadata": {},
   "outputs": [],
   "source": [
    "import torch\n",
    "import numpy as np\n",
    "from umap import UMAP\n",
    "\n",
    "from tqdm.auto import tqdm\n",
    "import matplotlib.pyplot as plt\n",
    "from matplotlib import colormaps\n",
    "from IPython.display import clear_output\n",
    "from time import sleep\n",
    "\n",
    "import data_utils\n",
    "\n",
    "plt.style.use(\"ggplot\")\n",
    "plt.style.use(\"seaborn-v0_8-colorblind\")"
   ]
  },
  {
   "cell_type": "code",
   "execution_count": null,
   "id": "f9483da0",
   "metadata": {},
   "outputs": [],
   "source": [
    "dir_out = \"my_data\""
   ]
  },
  {
   "cell_type": "markdown",
   "id": "a830aec0",
   "metadata": {},
   "source": [
    "## Load Data"
   ]
  },
  {
   "cell_type": "code",
   "execution_count": null,
   "id": "7b091a72",
   "metadata": {},
   "outputs": [],
   "source": [
    "## Load vocabulary\n",
    "\n",
    "vocabulary_name = '20k'\n",
    "# vocabulary_name = 'nouns_and_adjectives'\n",
    "\n",
    "with open(f\"./data/{vocabulary_name}.txt\") as f:\n",
    "    vocabulary = [v.strip() for v in f]\n",
    "\", \".join(vocabulary[:20])"
   ]
  },
  {
   "cell_type": "code",
   "execution_count": null,
   "id": "1fcbd387",
   "metadata": {},
   "outputs": [],
   "source": []
  },
  {
   "cell_type": "code",
   "execution_count": null,
   "id": "fbc0012f",
   "metadata": {},
   "outputs": [],
   "source": [
    "word_embedding = torch.load(f\"./saved_activations/{vocabulary_name}_ViT-B16.pt\").cpu().numpy()\n",
    "word_embedding.shape"
   ]
  },
  {
   "cell_type": "code",
   "execution_count": null,
   "id": "4e67c9b7",
   "metadata": {},
   "outputs": [],
   "source": [
    "umap = UMAP(metric='euclidean', n_neighbors=100, min_dist=0).fit_transform(word_embedding)\n"
   ]
  },
  {
   "cell_type": "code",
   "execution_count": null,
   "id": "12fba832",
   "metadata": {},
   "outputs": [],
   "source": [
    "## rotate umap through PCA\n",
    "mean = umap.mean(axis=0, keepdims=True)\n",
    "rot = np.linalg.svd(umap - mean, full_matrices=False)[-1].T\n",
    "umap = (umap - mean) @ rot"
   ]
  },
  {
   "cell_type": "code",
   "execution_count": null,
   "id": "224dd622",
   "metadata": {},
   "outputs": [],
   "source": [
    "plt.scatter(umap[:, 0], umap[:, 1], s=0.1)\n",
    "plt.axis(\"equal\")"
   ]
  },
  {
   "cell_type": "code",
   "execution_count": null,
   "id": "d4369934",
   "metadata": {},
   "outputs": [],
   "source": [
    "np.save(f\"{dir_out}/concepts_umap_{vocabulary_name}.npy\", umap)"
   ]
  },
  {
   "cell_type": "code",
   "execution_count": null,
   "id": "ba4be407",
   "metadata": {},
   "outputs": [],
   "source": [
    "from sklearn.manifold import TSNE\n",
    "tsne = TSNE().fit_transform(word_embedding)\n"
   ]
  },
  {
   "cell_type": "code",
   "execution_count": null,
   "id": "24434d69",
   "metadata": {},
   "outputs": [],
   "source": [
    "plt.scatter(tsne[:, 0], tsne[:, 1], s=0.1)\n",
    "plt.axis(\"equal\")"
   ]
  },
  {
   "cell_type": "code",
   "execution_count": null,
   "id": "c45cfd33",
   "metadata": {},
   "outputs": [],
   "source": [
    "np.save(f\"{dir_out}/concepts_tsne_{vocabulary_name}.npy\", tsne)"
   ]
  },
  {
   "cell_type": "markdown",
   "id": "efb12975",
   "metadata": {},
   "source": [
    "---"
   ]
  },
  {
   "cell_type": "code",
   "execution_count": null,
   "id": "f704adb0",
   "metadata": {},
   "outputs": [],
   "source": [
    "## size marks by total concept scores"
   ]
  },
  {
   "cell_type": "code",
   "execution_count": null,
   "id": "8a3b70f1",
   "metadata": {},
   "outputs": [],
   "source": [
    "for i, layer in enumerate(['conv1', 'layer1', 'layer2', 'layer3', 'layer4']):\n",
    "    neuron_concept_similarity = np.load(f\"./my_data/neuron_concept_similarities_{layer}.npy\")\n",
    "#     concept_scores = neuron_concept_similarity.clip(0, np.Infinity).mean(axis=0)\n",
    "    concept_scores = neuron_concept_similarity.max(axis=0)\n",
    "    argsort = concept_scores.argsort()\n",
    "    \n",
    "    plt.figure(figsize=[8,4])\n",
    "    plt.scatter(umap[argsort, 0], umap[argsort, 1], s=5, c=concept_scores[argsort], vmin=0, vmax=0.5)  # cosine\n",
    "#     plt.scatter(tsne[argsort, 0], tsne[argsort, 1], s=30, c=concept_scores[argsort])  # cosine\n",
    "    plt.axis(\"equal\")\n",
    "    plt.colorbar()\n",
    "    plt.title(f'concepts fired up at {layer}')\n",
    "    plt.savefig(f'figs/concepts_fired_up_at_{layer}.png', dpi=200, bbox_inches='tight')\n",
    "    plt.show()\n",
    "    \n",
    "    top = argsort[-20:][::-1]\n",
    "    \n",
    "    display([(vocabulary[i], concept_scores[i]) for i in top])\n",
    "#     sleep(1)\n",
    "    "
   ]
  },
  {
   "cell_type": "code",
   "execution_count": null,
   "id": "21ef44ee",
   "metadata": {},
   "outputs": [],
   "source": []
  },
  {
   "cell_type": "code",
   "execution_count": null,
   "id": "cd9388af",
   "metadata": {},
   "outputs": [],
   "source": []
  }
 ],
 "metadata": {
  "kernelspec": {
   "display_name": "Python 3 (ipykernel)",
   "language": "python",
   "name": "python3"
  },
  "language_info": {
   "codemirror_mode": {
    "name": "ipython",
    "version": 3
   },
   "file_extension": ".py",
   "mimetype": "text/x-python",
   "name": "python",
   "nbconvert_exporter": "python",
   "pygments_lexer": "ipython3",
   "version": "3.8.10"
  }
 },
 "nbformat": 4,
 "nbformat_minor": 5
}
