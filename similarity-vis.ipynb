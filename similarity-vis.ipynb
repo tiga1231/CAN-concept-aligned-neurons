{
 "cells": [
  {
   "cell_type": "code",
   "execution_count": null,
   "id": "8dfbd705",
   "metadata": {},
   "outputs": [],
   "source": [
    "import torch\n",
    "import numpy as np\n",
    "\n",
    "from umap import UMAP\n",
    "\n",
    "import matplotlib.pyplot as plt\n",
    "from matplotlib import colormaps\n",
    "plt.style.use('ggplot')\n",
    "plt.style.use('seaborn-v0_8-colorblind')\n"
   ]
  },
  {
   "cell_type": "code",
   "execution_count": null,
   "id": "f34b35d9",
   "metadata": {},
   "outputs": [],
   "source": [
    "layer_names"
   ]
  },
  {
   "cell_type": "code",
   "execution_count": null,
   "id": "6753668b",
   "metadata": {},
   "outputs": [],
   "source": [
    "layer_widths"
   ]
  },
  {
   "cell_type": "code",
   "execution_count": null,
   "id": "ad0f38e4",
   "metadata": {},
   "outputs": [],
   "source": [
    "similarity_load = torch.load('./all_layer_similarities.pt')\n",
    "\n",
    "\n",
    "layer_names = [s['layer'] for s in similarity_load]\n",
    "layer_widths = [s['similarities'].shape[0] for s in similarity_load]\n",
    "\n",
    "all_layer_similarity = torch.concat([s['similarities'] for s in similarity_load])\n",
    "layer_numbers = torch.concat([torch.zeros(s['similarities'].shape[0], dtype=torch.int)+i for i,s in enumerate(similarity_load)])\n",
    "\n",
    "\n",
    "plt.figure(figsize=[4,2])\n",
    "plt.plot(layer_numbers)\n",
    "plt.title('layer_numbers')\n",
    "plt.show()\n",
    "\n",
    "similarity[0]['layer'], sim.shape"
   ]
  },
  {
   "cell_type": "code",
   "execution_count": null,
   "id": "aa4acc69",
   "metadata": {},
   "outputs": [],
   "source": [
    "# dir()\n"
   ]
  },
  {
   "cell_type": "code",
   "execution_count": null,
   "id": "ba9ef120",
   "metadata": {},
   "outputs": [],
   "source": [
    "for l, ln in enumerate(layer_names):\n",
    "    sim = similarity_load[l]['similarities']\n",
    "\n",
    "    print(f'# {ln}\\n')\n",
    "    for neuron_index, s in enumerate(sim):\n",
    "        ranked_vocabulary_indices = list(np.argsort(s))[::-1]\n",
    "\n",
    "        top = 20\n",
    "        top_concepts = [vocabulary[r] for r in ranked_vocabulary_indices[:top]]\n",
    "        top_concepts_str = '\\n'.join(', '.join(top_concepts[i:i+5]) for i in range(0, top, 5))\n",
    "        bottom_concepts = [vocabulary[r] for r in ranked_vocabulary_indices[-top:]]\n",
    "        bottom_concepts_str = '\\n'.join(', '.join(bottom_concepts[i:i+5]) for i in range(0, top, 5))\n",
    "\n",
    "        print(f'[{ln}, neuron {neuron_index}]')\n",
    "        print('-'*10)\n",
    "        print(f'Top {len(top_concepts)} concepts:')\n",
    "        print(top_concepts_str)\n",
    "        print('-'*10)\n",
    "        print(f'Bottom {len(bottom_concepts)} concepts:')\n",
    "        print(bottom_concepts_str)\n",
    "        print()\n",
    "\n",
    "        plt.figure(figsize=[6,3], dpi=80)\n",
    "        stem = plt.stem(s[ranked_vocabulary_indices])\n",
    "        stem[0].set_markersize(0)\n",
    "        stem[1].set_linewidth(0.1)\n",
    "#         stem[1].set_linestyles(\"dashed\")\n",
    "        plt.title(\n",
    "            f'{ln}, neuron {neuron_index}\\n'\n",
    "    #         f'Top {len(top_concepts)} concepts: \\n{top_concepts_str}'\n",
    "        )    \n",
    "        plt.show()\n",
    "\n",
    "        if neuron_index>=10:\n",
    "            break\n",
    "\n",
    "\n"
   ]
  },
  {
   "cell_type": "code",
   "execution_count": null,
   "id": "58dced7a",
   "metadata": {},
   "outputs": [],
   "source": [
    "stem[1].set"
   ]
  },
  {
   "cell_type": "code",
   "execution_count": null,
   "id": "ff7abed2",
   "metadata": {},
   "outputs": [],
   "source": [
    "umap = UMAP(n_components=2, metric='cosine').fit_transform(all_layer_similarity.numpy())"
   ]
  },
  {
   "cell_type": "code",
   "execution_count": null,
   "id": "e0404ee2",
   "metadata": {},
   "outputs": [],
   "source": [
    "cmap = colormaps['viridis'].resampled(5).colors\n",
    "\n",
    "for ln in set(layer_numbers.tolist()):\n",
    "    plt.scatter(\n",
    "        umap[layer_numbers==ln,0], \n",
    "        umap[layer_numbers==ln,1], \n",
    "        s=10,\n",
    "        color=cmap[ln],\n",
    "        label=f'layer {ln} ({layer_names[ln]})',\n",
    "        linewidth=0.1,\n",
    "        edgecolors='#333'\n",
    "    )\n",
    "plt.axis('equal')\n",
    "plt.legend()\n",
    "plt.show()"
   ]
  },
  {
   "cell_type": "code",
   "execution_count": null,
   "id": "d296abdb",
   "metadata": {},
   "outputs": [],
   "source": []
  },
  {
   "cell_type": "code",
   "execution_count": null,
   "id": "37a9b306",
   "metadata": {},
   "outputs": [],
   "source": [
    "from sklearn.cluster import SpectralCoclustering\n",
    "\n",
    "clustering = SpectralCoclustering().fit(im)\n",
    "\n",
    "row = np.argsort(clustering.row_labels_)\n",
    "col = np.argsort(clustering.column_labels_)\n"
   ]
  },
  {
   "cell_type": "code",
   "execution_count": null,
   "id": "fd239846",
   "metadata": {},
   "outputs": [],
   "source": []
  }
 ],
 "metadata": {
  "kernelspec": {
   "display_name": "Python 3 (ipykernel)",
   "language": "python",
   "name": "python3"
  },
  "language_info": {
   "codemirror_mode": {
    "name": "ipython",
    "version": 3
   },
   "file_extension": ".py",
   "mimetype": "text/x-python",
   "name": "python",
   "nbconvert_exporter": "python",
   "pygments_lexer": "ipython3",
   "version": "3.8.10"
  }
 },
 "nbformat": 4,
 "nbformat_minor": 5
}
