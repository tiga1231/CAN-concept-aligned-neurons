{
 "cells": [
  {
   "cell_type": "code",
   "execution_count": null,
   "id": "14ac5264",
   "metadata": {},
   "outputs": [],
   "source": [
    "import jupyter_black\n",
    "\n",
    "jupyter_black.load(lab=False)"
   ]
  },
  {
   "cell_type": "code",
   "execution_count": null,
   "id": "391c9fa6",
   "metadata": {},
   "outputs": [],
   "source": [
    "from glob import glob\n",
    "from natsort import natsorted\n",
    "\n",
    "import torch\n",
    "import numpy as np\n",
    "# from umap import UMAP\n",
    "from torchvision.utils import make_grid\n",
    "from torchvision import transforms\n",
    "\n",
    "from tqdm.auto import tqdm\n",
    "import matplotlib.pyplot as plt\n",
    "from matplotlib import colormaps\n",
    "\n",
    "import data_utils\n",
    "\n",
    "plt.style.use(\"ggplot\")\n",
    "plt.style.use(\"seaborn-v0_8-colorblind\")"
   ]
  },
  {
   "cell_type": "code",
   "execution_count": null,
   "id": "68e1d757",
   "metadata": {},
   "outputs": [],
   "source": [
    "# after:\n",
    "# !python save_activations.py\n",
    "# saved_activations/ has activation files:\n",
    "# ./saved_activations/raw-{layer_name}-{batch_start}.pt"
   ]
  },
  {
   "cell_type": "code",
   "execution_count": null,
   "id": "f8b69fe3",
   "metadata": {},
   "outputs": [],
   "source": [
    "# load activations files, estimate quantile\n",
    "layer_name = 'conv1'\n",
    "fns = natsorted(glob(f'./saved_activations/raw-{layer_name}-*.pt'))\n",
    "display(fns)"
   ]
  },
  {
   "cell_type": "markdown",
   "id": "aca2bd3f",
   "metadata": {},
   "source": [
    "## Load minibatch activation files, compute quantile per neuron, on each mini-batch"
   ]
  },
  {
   "cell_type": "code",
   "execution_count": null,
   "id": "3cfa8474",
   "metadata": {},
   "outputs": [],
   "source": [
    "quantile = 0.95\n",
    "\n",
    "quantile_samples = []\n",
    "for fn in tqdm(fns):\n",
    "    act = torch.load(fn)\n",
    "    \n",
    "    if len(act.shape) == 4: # Conv layer\n",
    "        # channel first, then combine all remaining (spatial, and instance) dimensions \n",
    "        act1 = act.permute(1,0,2,3).reshape(act.shape[1], -1)\n",
    "    elif len(act.shape) == 2: # fc layer\n",
    "        # neuron first\n",
    "        act1 = act.permute(1,0)\n",
    "    \n",
    "    q = np.quantile(act1.numpy(), q=quantile, axis=1)\n",
    "    quantile_samples.append(q)\n",
    "\n",
    "quantile_samples = np.stack(quantile_samples)\n",
    "quantile_samples.shape"
   ]
  },
  {
   "cell_type": "code",
   "execution_count": null,
   "id": "ef78010a",
   "metadata": {},
   "outputs": [],
   "source": [
    "# quantile_estimates per neuron (channel)\n",
    "quantile_estimates = np.mean(quantile_samples, axis=0)\n",
    "quantile_estimates.shape, quantile_estimates"
   ]
  },
  {
   "cell_type": "markdown",
   "id": "50e66b30",
   "metadata": {},
   "source": [
    "## visualize binary masks"
   ]
  },
  {
   "cell_type": "code",
   "execution_count": null,
   "id": "70a61aca",
   "metadata": {},
   "outputs": [],
   "source": [
    "for channel_threshold, channel_act in zip(quantile_estimates, act.permute(1, 0, 2, 3)):\n",
    "    act_mask = channel_act > channel_threshold\n",
    "    grid = make_grid(act_mask.unsqueeze(1), nrow=16, padding=0)[0]\n",
    "    plt.figure(figsize=[12, 6])\n",
    "    plt.imshow(grid)\n",
    "    plt.axis(\"off\")\n",
    "    plt.show()"
   ]
  },
  {
   "cell_type": "markdown",
   "id": "301e8fc1",
   "metadata": {},
   "source": [
    "## visualize original images"
   ]
  },
  {
   "cell_type": "code",
   "execution_count": null,
   "id": "2f09d9dc",
   "metadata": {},
   "outputs": [],
   "source": [
    "transform = transforms.Compose(\n",
    "    [\n",
    "        transforms.Resize(256),\n",
    "        transforms.CenterCrop(224),\n",
    "        transforms.ToTensor(),\n",
    "    ]\n",
    ")\n",
    "\n",
    "imgs = torch.empty(136, 3, 224, 224)\n",
    "for i, img_index in enumerate(dataset.indices[-136:]):\n",
    "    img = dataset.dataset[img_index][0]\n",
    "    img = transform(img)\n",
    "    imgs[i] = img\n",
    "#     display(img)\n",
    "#     plt.imshow(img.permute(1, 2, 0).numpy())\n",
    "\n",
    "grid = make_grid(imgs, nrow=16)\n",
    "plt.figure(figsize=[12, 6])\n",
    "plt.imshow(\n",
    "    grid.permute(1, 2, 0).numpy(),\n",
    ")\n",
    "plt.axis(\"off\")"
   ]
  },
  {
   "cell_type": "code",
   "execution_count": null,
   "id": "968c3d52",
   "metadata": {},
   "outputs": [],
   "source": [
    "target_model, target_preprocess = data_utils.get_target_model(\"resnet50\", \"cpu\")\n",
    "dataset = data_utils.get_data(\"imagenet_val\", preprocess=None)\n",
    "subset = list(range(0, len(dataset), 10))\n",
    "dataset = torch.utils.data.Subset(dataset, subset)\n",
    "target_preprocess"
   ]
  },
  {
   "cell_type": "code",
   "execution_count": null,
   "id": "abcb2260",
   "metadata": {},
   "outputs": [],
   "source": []
  }
 ],
 "metadata": {
  "kernelspec": {
   "display_name": "Python 3 (ipykernel)",
   "language": "python",
   "name": "python3"
  },
  "language_info": {
   "codemirror_mode": {
    "name": "ipython",
    "version": 3
   },
   "file_extension": ".py",
   "mimetype": "text/x-python",
   "name": "python",
   "nbconvert_exporter": "python",
   "pygments_lexer": "ipython3",
   "version": "3.8.10"
  }
 },
 "nbformat": 4,
 "nbformat_minor": 5
}
