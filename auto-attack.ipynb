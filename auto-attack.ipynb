{
 "cells": [
  {
   "cell_type": "code",
   "execution_count": null,
   "metadata": {},
   "outputs": [],
   "source": [
    "import os\n",
    "from tqdm.auto import tqdm\n",
    "\n",
    "import numpy as np\n",
    "import torch\n",
    "from torchvision import models\n",
    "from torch.utils.data import DataLoader\n",
    "from torchvision import transforms\n",
    "\n",
    "import matplotlib.pyplot as plt\n",
    "plt.style.use('ggplot')\n",
    "plt.style.use('seaborn-v0_8-colorblind')\n",
    "\n",
    "\n",
    "import data_utils\n",
    "from autoattack import AutoAttack\n",
    "# (https://github.com/fra31/auto-attack/blob/master/autoattack/autoattack.py)\n"
   ]
  },
  {
   "cell_type": "code",
   "execution_count": null,
   "metadata": {},
   "outputs": [],
   "source": [
    "##load model and defaalt image transform\n",
    "model, preprocess0 = data_utils.get_target_model(target_name='resnet50', device='cuda', weights='default')\n",
    "preprocess0"
   ]
  },
  {
   "cell_type": "code",
   "execution_count": null,
   "metadata": {},
   "outputs": [],
   "source": [
    "##transforms\n",
    "preprocess = transforms.Compose([\n",
    "    transforms.Resize(256),\n",
    "    transforms.CenterCrop(224),\n",
    "    transforms.ToTensor(),\n",
    "])\n",
    "\n",
    "normalize = transforms.Normalize(mean=preprocess0.mean, std=preprocess0.std)\n",
    "\n",
    "def denormalize(x):\n",
    "    std = torch.tensor(preprocess0.std).view(3,1,1)\n",
    "    mean = torch.tensor(preprocess0.mean).view(3,1,1)\n",
    "    x = x * std + mean # de-normalize\n",
    "    return x\n",
    "\n",
    "to_pil = transforms.ToPILImage()\n",
    "\n",
    "\n",
    "## model forward pass\n",
    "def forward_pass(img):\n",
    "    img = normalize(img)\n",
    "    return model(img)"
   ]
  },
  {
   "cell_type": "code",
   "execution_count": null,
   "metadata": {},
   "outputs": [],
   "source": [
    "##data, loader\n",
    "dataset = data_utils.get_data('imagenet_val', preprocess)\n",
    "loader = DataLoader(dataset, batch_size=8)"
   ]
  },
  {
   "cell_type": "code",
   "execution_count": null,
   "metadata": {},
   "outputs": [],
   "source": [
    "# ## test for correctness\n",
    "\n",
    "# img, target = next(iter(loader))\n",
    "# img, target = img.cuda(), target.cuda()\n",
    "# r = img.max()-img.min() # r=1, range of image data\n",
    "\n",
    "# adversary = AutoAttack(\n",
    "#     forward_pass, \n",
    "#     norm='Linf', \n",
    "#     eps=0.01*r, #bound over image domain [0,1]\n",
    "#     version='custom', \n",
    "#     attacks_to_run=['apgd-ce'],\n",
    "#     verbose=True\n",
    "# )\n",
    "\n",
    "# a = adversary.run_standard_evaluation(img, target)\n",
    "\n",
    "# abs_diff = (a - img).abs()\n",
    "# print('abs_diff.max', abs_diff.max())\n",
    "\n",
    "# for i in range(8):\n",
    "#     display(\n",
    "#         'orignal',\n",
    "#         to_pil(img[i].detach().cpu()), \n",
    "#         'orignal predict',\n",
    "#         forward_pass(img[i:i+1]).argmax(),\n",
    "\n",
    "#         'adversarial',\n",
    "#         to_pil(a[i].detach().cpu()),\n",
    "#         'adversarial predict', forward_pass(a[i:i+1]).argmax(),\n",
    "#         '============='\n",
    "#     )\n"
   ]
  },
  {
   "cell_type": "code",
   "execution_count": null,
   "metadata": {},
   "outputs": [],
   "source": [
    "out_dir = '/home/lim38/dataset/imagenet-val-attack'\n",
    "os.makedirs(out_dir, exist_ok=True)\n",
    "\n",
    "# subdirs = set([img_and_label[0].split('/')[-2] for img_and_label in dataset.imgs])\n",
    "# for subdir in subdirs:\n",
    "#     os.makedirs(f'{out_dir}/{subdir}', exist_ok=True)\n",
    "\n"
   ]
  },
  {
   "cell_type": "code",
   "execution_count": null,
   "metadata": {},
   "outputs": [],
   "source": [
    "adversary = AutoAttack(\n",
    "    forward_pass, \n",
    "    norm='Linf', \n",
    "    eps=5/255, #bound over image domain [0,1]\n",
    "    version='custom', \n",
    "    attacks_to_run=['apgd-ce'],\n",
    "    verbose=True\n",
    ")\n",
    "\n",
    "loader = DataLoader(dataset, batch_size=64, shuffle=False)\n",
    "i = 0 # global image count\n",
    "for img, target in tqdm(loader):\n",
    "    \n",
    "    img, target = img.cuda(), target.cuda()\n",
    "    adv = adversary.run_standard_evaluation(img, target)\n",
    "    \n",
    "    for a in adv:\n",
    "        pil = to_pil(a.detach().cpu())\n",
    "        subdir, fn = dataset.imgs[i][0].split('/')[-2:]\n",
    "        os.makedirs(f'{out_dir}/{subdir}', exist_ok=True)\n",
    "        pil.save(f'{out_dir}/{subdir}/{fn}')\n",
    "        i+=1\n"
   ]
  },
  {
   "cell_type": "code",
   "execution_count": null,
   "metadata": {},
   "outputs": [],
   "source": []
  }
 ],
 "metadata": {
  "kernelspec": {
   "display_name": "Python 3 (ipykernel)",
   "language": "python",
   "name": "python3"
  },
  "language_info": {
   "codemirror_mode": {
    "name": "ipython",
    "version": 3
   },
   "file_extension": ".py",
   "mimetype": "text/x-python",
   "name": "python",
   "nbconvert_exporter": "python",
   "pygments_lexer": "ipython3",
   "version": "3.9.5"
  }
 },
 "nbformat": 4,
 "nbformat_minor": 4
}
