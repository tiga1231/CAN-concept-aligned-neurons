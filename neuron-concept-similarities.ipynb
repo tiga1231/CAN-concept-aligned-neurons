{
 "cells": [
  {
   "cell_type": "markdown",
   "id": "27217f31",
   "metadata": {},
   "source": [
    "*\"A box of mixed biscuit and biscuit mixture\"*"
   ]
  },
  {
   "cell_type": "code",
   "execution_count": null,
   "id": "18aea77c",
   "metadata": {},
   "outputs": [],
   "source": [
    "# import jupyter_black\n",
    "\n",
    "# jupyter_black.load()"
   ]
  },
  {
   "cell_type": "code",
   "execution_count": null,
   "id": "8a4d7805",
   "metadata": {},
   "outputs": [],
   "source": [
    "# !tree -L 2"
   ]
  },
  {
   "cell_type": "code",
   "execution_count": null,
   "id": "8dfbd705",
   "metadata": {},
   "outputs": [],
   "source": [
    "import torch\n",
    "import numpy as np\n",
    "from umap import UMAP\n",
    "\n",
    "from tqdm.auto import tqdm\n",
    "import matplotlib.pyplot as plt\n",
    "from matplotlib import colormaps\n",
    "\n",
    "import data_utils\n",
    "\n",
    "plt.style.use(\"ggplot\")\n",
    "plt.style.use(\"seaborn-v0_8-colorblind\")"
   ]
  },
  {
   "cell_type": "code",
   "execution_count": null,
   "id": "f9483da0",
   "metadata": {},
   "outputs": [],
   "source": [
    "# dir_out = \"my_data/resnet34\"\n",
    "dir_out = \"my_data/resnet50\""
   ]
  },
  {
   "cell_type": "markdown",
   "id": "a830aec0",
   "metadata": {},
   "source": [
    "## Load Data"
   ]
  },
  {
   "cell_type": "code",
   "execution_count": null,
   "id": "7b091a72",
   "metadata": {},
   "outputs": [],
   "source": [
    "## Load vocabulary\n",
    "\n",
    "# with open(\"./data/20k.txt\") as f:\n",
    "# with open(\"./data/nouns_and_adjectives.txt\") as f:\n",
    "with open(\"./data/wordnet_hierarchy.txt\") as f:\n",
    "    vocabulary = [v.strip() for v in f]\n",
    "\", \".join(vocabulary[:20])"
   ]
  },
  {
   "cell_type": "code",
   "execution_count": null,
   "id": "ad0f38e4",
   "metadata": {},
   "outputs": [],
   "source": [
    "## Load neuron-concept similarity\n",
    "\n",
    "similarity_load = torch.load(f\"./{dir_out}/all_layer_similarities.pt\")\n",
    "print(\"similarity_load\\n\", similarity_load[:1],similarity_load[0]['similarities'].shape )"
   ]
  },
  {
   "cell_type": "code",
   "execution_count": null,
   "id": "fee76cdf",
   "metadata": {},
   "outputs": [],
   "source": [
    "## Save raw neuron-concept similarities\n",
    "for sim in similarity_load:\n",
    "    layer_name = sim['layer']\n",
    "    sim = sim['similarities']\n",
    "    \n",
    "    fn = f'{dir_out}/neuron_concept_similarities_{layer_name}.npy'\n",
    "    np.save(fn, sim.numpy().astype(np.float16))"
   ]
  },
  {
   "cell_type": "code",
   "execution_count": null,
   "id": "428b0a55",
   "metadata": {},
   "outputs": [],
   "source": [
    "# ## Load neuron activations\n",
    "\n",
    "# dir_in = \"saved_activations/\"\n",
    "# fns = [\n",
    "#     f\"{dir_in}/imagenet_val_resnet50_conv1.pt\",\n",
    "#     f\"{dir_in}/imagenet_val_resnet50_layer1.pt\",\n",
    "#     f\"{dir_in}/imagenet_val_resnet50_layer2.pt\",\n",
    "#     f\"{dir_in}/imagenet_val_resnet50_layer3.pt\",\n",
    "#     f\"{dir_in}/imagenet_val_resnet50_layer4.pt\",\n",
    "# ]\n",
    "\n",
    "# activations = []\n",
    "\n",
    "# for fn in tqdm(fns):\n",
    "#     act = torch.load(fn)\n",
    "#     print(act.shape)\n",
    "#     activations.append(act)\n",
    "\n",
    "# print(act.shape)\n",
    "# cor = torch.corrcoef(act.T)\n",
    "# plt.figure(figsize=[3, 3])\n",
    "# plt.imshow(cor.cpu().numpy()[:50, :50])\n",
    "# plt.colorbar()\n",
    "# plt.title(\"Correlation Coefficient Preview\")\n",
    "# plt.show()"
   ]
  },
  {
   "cell_type": "code",
   "execution_count": null,
   "id": "ed8cab14",
   "metadata": {},
   "outputs": [],
   "source": [
    "# for layer_name, act in zip(tqdm(layer_names), activations):\n",
    "#     act = act.cpu()\n",
    "#     np.save(f\"{dir_out}/neuron_activations_{layer_name}.npy\", act.numpy())\n",
    "\n",
    "#     top = 100\n",
    "#     neuron_activation_image_argsort = act.argsort(0, descending=True).int()[:top].t()\n",
    "#     np.save(f\"{dir_out}/neuron_activation_image_argsort_{layer_name}.npy\", neuron_activation_image_argsort.numpy())\n"
   ]
  },
  {
   "cell_type": "code",
   "execution_count": null,
   "id": "d7e24ac2",
   "metadata": {},
   "outputs": [],
   "source": [
    "# # get image file names\n",
    "# image_data = data_utils.get_data(\"imagenet_val\")\n",
    "# image_data.imgs[-1]"
   ]
  },
  {
   "cell_type": "markdown",
   "id": "1548c46f",
   "metadata": {},
   "source": [
    "## Get some intermediate data"
   ]
  },
  {
   "cell_type": "code",
   "execution_count": null,
   "id": "c0ab45df",
   "metadata": {},
   "outputs": [],
   "source": [
    "## Intermediary data for Neuron-Concept similarities\n",
    "\n",
    "layer_names = [s[\"layer\"] for s in similarity_load]\n",
    "layer_widths = [s[\"similarities\"].shape[0] for s in similarity_load]\n",
    "layer_numbers = torch.concat(\n",
    "    [\n",
    "        torch.zeros(s[\"similarities\"].shape[0], dtype=torch.int) + i\n",
    "        for i, s in enumerate(similarity_load)\n",
    "    ]\n",
    ")\n",
    "all_layer_similarity = torch.concat([s[\"similarities\"] for s in similarity_load])\n",
    "\n",
    "\n",
    "print(\"layer_names = \", layer_names)\n",
    "print(\"layer_widths = \", layer_widths)\n",
    "print(\"layer_numbers = \", layer_numbers)\n",
    "print(\"all_layer_similarity.shape =\", all_layer_similarity.shape)\n",
    "plt.figure(figsize=[10, 2])\n",
    "plt.plot(layer_numbers)\n",
    "plt.title(\"layer_numbers\")\n",
    "plt.show()"
   ]
  },
  {
   "cell_type": "markdown",
   "id": "b991aa55",
   "metadata": {},
   "source": [
    "## Save concepts to text file"
   ]
  },
  {
   "cell_type": "code",
   "execution_count": null,
   "id": "1842ab9b",
   "metadata": {},
   "outputs": [],
   "source": [
    "# all_layer_similarity.numpy().to(\"all_layer_similarity.npy\")"
   ]
  },
  {
   "cell_type": "code",
   "execution_count": null,
   "id": "b92276e8",
   "metadata": {},
   "outputs": [],
   "source": [
    "# ## Plot neuron-concepts similaries per neuron\n",
    "\n",
    "# for l, layer_name in enumerate(layer_names):\n",
    "#     sim = similarity_load[l][\"similarities\"]\n",
    "\n",
    "#     for neuron_index, s in enumerate(tqdm(sim)):\n",
    "#         ranked_vocabulary_indices = list(np.argsort(s))[::-1]\n",
    "\n",
    "#         top = 20\n",
    "#         top_concepts = [vocabulary[r] for r in ranked_vocabulary_indices[:top]]\n",
    "#         top_concepts_str = \"\\n\".join(\n",
    "#             \", \".join(top_concepts[i : i + 5]) for i in range(0, top, 5)\n",
    "#         )\n",
    "#         bottom_concepts = [vocabulary[r] for r in ranked_vocabulary_indices[-top:]]\n",
    "#         bottom_concepts_str = \"\\n\".join(\n",
    "#             \", \".join(bottom_concepts[i : i + 5]) for i in range(0, top, 5)\n",
    "#         )\n",
    "\n",
    "#         #         print(f\"[{layer_name}, neuron {neuron_index}]\\n\" \"-\" * 10 + \"\\n\")\n",
    "#         #         f.write(f'Top {len(top_concepts)} concepts:\\n')\n",
    "#         #         f.write(top_concepts_str + '\\n')\n",
    "#         #         f.write('-'*10 + '\\n')\n",
    "#         #         f.write(f'Bottom {len(bottom_concepts)} concepts:\\n')\n",
    "#         #         f.write(bottom_concepts_str+ '\\n')\n",
    "#         #         f.write('\\n')\n",
    "\n",
    "#         #         plt.figure(figsize=[4, 3], dpi=80)\n",
    "#         #         plt.stem(s[ranked_vocabulary_indices])\n",
    "#         #         plt.title(\n",
    "#         #             f\"{layer_name}, neuron {neuron_index}\\n\"\n",
    "#         #             #         f'Top {len(top_concepts)} concepts: \\n{top_concepts_str}'\n",
    "#         #         )\n",
    "\n",
    "#         plt.figure(figsize=[4, 3], dpi=80)\n",
    "#         plt.hist(s, bins=100)\n",
    "#         plt.xlabel(\"neuron-concept relatedness\")\n",
    "#         plt.ylabel(\"Count of concepts (total = 20k words)\")\n",
    "#         plt.show()\n",
    "\n",
    "#         if neuron_index >= 2:\n",
    "#             break"
   ]
  },
  {
   "cell_type": "code",
   "execution_count": null,
   "id": "ba9ef120",
   "metadata": {},
   "outputs": [],
   "source": [
    "# ## Save top and bottom 20 concepts as text files\n",
    "\n",
    "# for l, layer_name in enumerate(layer_names):\n",
    "#     sim = similarity_load[l][\"similarities\"]\n",
    "\n",
    "#     with open(f\"neuron-concepts-{layer_name}.txt\", \"w\") as f:\n",
    "#         print(f\"# {layer_name}\\n\")\n",
    "#         f.write(f\"# {layer_name}\\n\")\n",
    "#         for neuron_index, s in enumerate(tqdm(sim)):\n",
    "#             ranked_vocabulary_indices = list(np.argsort(s))[::-1]\n",
    "\n",
    "#             top = 20\n",
    "#             top_concepts = [vocabulary[r] for r in ranked_vocabulary_indices[:top]]\n",
    "#             top_concepts_str = \"\\n\".join(\n",
    "#                 \", \".join(top_concepts[i : i + 5]) for i in range(0, top, 5)\n",
    "#             )\n",
    "#             bottom_concepts = [vocabulary[r] for r in ranked_vocabulary_indices[-top:]]\n",
    "#             bottom_concepts_str = \"\\n\".join(\n",
    "#                 \", \".join(bottom_concepts[i : i + 5]) for i in range(0, top, 5)\n",
    "#             )\n",
    "\n",
    "#             f.write(f\"[{layer_name}, neuron {neuron_index}]\\n\")\n",
    "#             f.write(\"-\" * 10 + \"\\n\")\n",
    "#             f.write(f\"Top {len(top_concepts)} concepts:\\n\")\n",
    "#             f.write(top_concepts_str + \"\\n\")\n",
    "#             f.write(\"-\" * 10 + \"\\n\")\n",
    "#             f.write(f\"Bottom {len(bottom_concepts)} concepts:\\n\")\n",
    "#             f.write(bottom_concepts_str + \"\\n\")\n",
    "#             f.write(\"\\n\")\n",
    "\n",
    "# #             plt.figure(figsize=[4, 3], dpi=80)\n",
    "# #             plt.stem(s[ranked_vocabulary_indices])\n",
    "# #             plt.title(\n",
    "# #                 f\"{layer_name}, neuron {neuron_index}\\n\"\n",
    "# #                 #         f'Top {len(top_concepts)} concepts: \\n{top_concepts_str}'\n",
    "# #             )\n",
    "# #             plt.show()\n",
    "\n",
    "# #         if neuron_index>=20:\n",
    "# #             break"
   ]
  },
  {
   "cell_type": "markdown",
   "id": "354f582a",
   "metadata": {},
   "source": [
    "## Neuron UMAP"
   ]
  },
  {
   "cell_type": "markdown",
   "id": "155d7bd9",
   "metadata": {},
   "source": [
    "### Neuron UMAP All layers at once"
   ]
  },
  {
   "cell_type": "code",
   "execution_count": null,
   "id": "ff7abed2",
   "metadata": {},
   "outputs": [],
   "source": [
    "# umap = UMAP(n_components=2).fit_transform(all_layer_similarity.numpy())"
   ]
  },
  {
   "cell_type": "code",
   "execution_count": null,
   "id": "799d99a8",
   "metadata": {},
   "outputs": [],
   "source": [
    "# cmap = colormaps[\"viridis\"].resampled(5).colors\n",
    "\n",
    "# for ln in set(layer_numbers.tolist()):\n",
    "#     plt.scatter(\n",
    "#         umap[layer_numbers == ln, 0],\n",
    "#         umap[layer_numbers == ln, 1],\n",
    "#         s=10,\n",
    "#         color=cmap[ln],\n",
    "#         label=f\"layer {ln} ({layer_names[ln]})\",\n",
    "#         linewidth=0.1,\n",
    "#         edgecolors=\"#333\",\n",
    "#     )\n",
    "# plt.axis(\"equal\")\n",
    "# plt.legend()\n",
    "# plt.show()"
   ]
  },
  {
   "cell_type": "markdown",
   "id": "2432881e",
   "metadata": {},
   "source": [
    "### Neuron UMAP, Each individual layers"
   ]
  },
  {
   "cell_type": "code",
   "execution_count": null,
   "id": "3d85b0a8",
   "metadata": {},
   "outputs": [],
   "source": [
    "umaps = [\n",
    "    UMAP(n_components=2, min_dist=0.1).fit_transform(sim[\"similarities\"].numpy())\n",
    "    for sim in tqdm(similarity_load)\n",
    "]"
   ]
  },
  {
   "cell_type": "code",
   "execution_count": null,
   "id": "e0404ee2",
   "metadata": {},
   "outputs": [],
   "source": [
    "for i, umap in enumerate(umaps):\n",
    "    plt.figure()\n",
    "    plt.scatter(\n",
    "        umap[:, 0],\n",
    "        umap[:, 1],\n",
    "        s=10,\n",
    "        label=f\"layer {i} ({layer_names[i]})\",\n",
    "        linewidth=0.1,\n",
    "        edgecolors=\"#333\",\n",
    "    )\n",
    "    plt.axis(\"equal\")\n",
    "    plt.legend()\n",
    "    plt.show()"
   ]
  },
  {
   "cell_type": "code",
   "execution_count": null,
   "id": "c9790e57",
   "metadata": {},
   "outputs": [],
   "source": []
  },
  {
   "cell_type": "markdown",
   "id": "0eb0e12d",
   "metadata": {},
   "source": [
    "## Neuron UMAP, Each individual layers *BY ACTIVATION*"
   ]
  },
  {
   "cell_type": "code",
   "execution_count": null,
   "id": "67ed39a6",
   "metadata": {},
   "outputs": [],
   "source": [
    "# umaps = [\n",
    "#     UMAP(n_components=2, min_dist=0.1, metric='cosine').fit_transform(act.cpu().numpy().T)\n",
    "#     for act in tqdm(activations)\n",
    "# ]\n",
    "\n",
    "# for i, umap in enumerate(umaps):\n",
    "#     plt.figure()\n",
    "#     plt.scatter(\n",
    "#         umap[:, 0],\n",
    "#         umap[:, 1],\n",
    "#         s=10,\n",
    "#         label=f\"layer {i} ({layer_names[i]})\",\n",
    "#         linewidth=0.1,\n",
    "#         edgecolors=\"#333\",\n",
    "#     )\n",
    "#     plt.axis(\"equal\")\n",
    "#     plt.legend()\n",
    "#     plt.show()"
   ]
  },
  {
   "cell_type": "markdown",
   "id": "735e8246",
   "metadata": {},
   "source": [
    "## Save UMAP to file"
   ]
  },
  {
   "cell_type": "code",
   "execution_count": null,
   "id": "7cc3f65a",
   "metadata": {},
   "outputs": [],
   "source": [
    "dir_out"
   ]
  },
  {
   "cell_type": "code",
   "execution_count": null,
   "id": "9db18850",
   "metadata": {},
   "outputs": [],
   "source": [
    "for layer_name, umap in zip(layer_names, umaps):\n",
    "    np.save(f\"{dir_out}/umap_{layer_name}.npy\", umap)"
   ]
  },
  {
   "cell_type": "markdown",
   "id": "d5ad3493",
   "metadata": {},
   "source": [
    "---"
   ]
  },
  {
   "cell_type": "code",
   "execution_count": null,
   "id": "37a9b306",
   "metadata": {},
   "outputs": [],
   "source": [
    "# #TODO? SpectralCoclustering\n",
    "\n",
    "# from sklearn.cluster import SpectralCoclustering\n",
    "\n",
    "# clustering = SpectralCoclustering().fit(im)\n",
    "\n",
    "# row = np.argsort(clustering.row_labels_)\n",
    "# col = np.argsort(clustering.column_labels_)\n"
   ]
  },
  {
   "cell_type": "code",
   "execution_count": null,
   "id": "292b38a1",
   "metadata": {},
   "outputs": [],
   "source": []
  },
  {
   "cell_type": "code",
   "execution_count": null,
   "id": "c3500a87",
   "metadata": {},
   "outputs": [],
   "source": []
  },
  {
   "cell_type": "markdown",
   "id": "805a6658",
   "metadata": {},
   "source": [
    "## Save neuron top-n concept indices to file"
   ]
  },
  {
   "cell_type": "code",
   "execution_count": null,
   "id": "fd239846",
   "metadata": {},
   "outputs": [],
   "source": [
    "# for sim in similarity_load:\n",
    "#     layer_name = sim['layer']\n",
    "#     sim = sim['similarities'].argsort(descending=True)\n",
    "#     sim = sim[:,:100] ## get top\n",
    "#     sim = sim.type(torch.int32)\n",
    "#     fn = f'{dir_out}/concepts_top100_{layer_name}.npy'\n",
    "#     np.save(fn, sim.numpy())"
   ]
  },
  {
   "cell_type": "markdown",
   "id": "92d5757e",
   "metadata": {},
   "source": [
    "## Copy vocabulary file"
   ]
  },
  {
   "cell_type": "code",
   "execution_count": null,
   "id": "e175d9fc",
   "metadata": {},
   "outputs": [],
   "source": [
    "# !cp data/20k.txt {dir_out}/vocabulary_20k.txt"
   ]
  },
  {
   "cell_type": "code",
   "execution_count": null,
   "id": "9eca04d6",
   "metadata": {},
   "outputs": [],
   "source": []
  },
  {
   "cell_type": "code",
   "execution_count": null,
   "id": "fbc0012f",
   "metadata": {},
   "outputs": [],
   "source": []
  }
 ],
 "metadata": {
  "kernelspec": {
   "display_name": "Python 3 (ipykernel)",
   "language": "python",
   "name": "python3"
  },
  "language_info": {
   "codemirror_mode": {
    "name": "ipython",
    "version": 3
   },
   "file_extension": ".py",
   "mimetype": "text/x-python",
   "name": "python",
   "nbconvert_exporter": "python",
   "pygments_lexer": "ipython3",
   "version": "3.8.10"
  }
 },
 "nbformat": 4,
 "nbformat_minor": 5
}
