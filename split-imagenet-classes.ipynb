{
 "cells": [
  {
   "cell_type": "code",
   "execution_count": null,
   "id": "f983ecc3",
   "metadata": {},
   "outputs": [],
   "source": [
    "from glob import glob\n",
    "from natsort import natsorted\n",
    "import random\n",
    "\n",
    "import numpy as np\n",
    "import os"
   ]
  },
  {
   "cell_type": "code",
   "execution_count": null,
   "id": "f1444b1b",
   "metadata": {},
   "outputs": [],
   "source": [
    "image_folder = '/home/lim38/dataset/imagenet-val/'\n",
    "image_classes = natsorted(glob(f'{image_folder}/n*'))\n",
    "\n",
    "n_classes = len(image_classes)\n",
    "n_classes"
   ]
  },
  {
   "cell_type": "code",
   "execution_count": null,
   "id": "3d7e6be7",
   "metadata": {},
   "outputs": [],
   "source": [
    "random.seed(0)\n",
    "class_set1 = sorted(set(random.sample(range(n_classes), k=500)))\n",
    "class_set2 = sorted(set(range(n_classes)) - set(class_set1)) # find complement\n",
    "\n",
    "class_set1"
   ]
  },
  {
   "cell_type": "code",
   "execution_count": null,
   "id": "322d0952",
   "metadata": {},
   "outputs": [],
   "source": [
    "image_classes1 = [image_classes[i] for i in class_set1]\n",
    "image_classes2 = [image_classes[i] for i in class_set2]\n",
    "image_classes1"
   ]
  },
  {
   "cell_type": "code",
   "execution_count": null,
   "id": "82f4914d",
   "metadata": {},
   "outputs": [],
   "source": [
    "dir1 = '/home/lim38/dataset/imagenet-val-subset1'\n",
    "dir2 = '/home/lim38/dataset/imagenet-val-subset2'"
   ]
  },
  {
   "cell_type": "code",
   "execution_count": null,
   "id": "5cf28843",
   "metadata": {},
   "outputs": [],
   "source": [
    "# output directories\n",
    "\n",
    "for out_dir, out_classes, empty_classes in [\n",
    "    [dir1, image_classes1, image_classes2], \n",
    "    [dir2, image_classes2, image_classes1]]:\n",
    "    \n",
    "    !rm -r {out_dir}\n",
    "    os.makedirs(out_dir,)\n",
    "    for d in out_classes:\n",
    "        os.symlink(d, f'{out_dir}/{d.split(\"/\")[-1]}')\n",
    "    for d in empty_classes:\n",
    "        os.makedirs(f'{out_dir}/{d.split(\"/\")[-1]}')\n"
   ]
  },
  {
   "cell_type": "code",
   "execution_count": null,
   "id": "a0a9df37",
   "metadata": {},
   "outputs": [],
   "source": []
  }
 ],
 "metadata": {
  "kernelspec": {
   "display_name": "Python 3 (ipykernel)",
   "language": "python",
   "name": "python3"
  },
  "language_info": {
   "codemirror_mode": {
    "name": "ipython",
    "version": 3
   },
   "file_extension": ".py",
   "mimetype": "text/x-python",
   "name": "python",
   "nbconvert_exporter": "python",
   "pygments_lexer": "ipython3",
   "version": "3.8.10"
  }
 },
 "nbformat": 4,
 "nbformat_minor": 5
}
