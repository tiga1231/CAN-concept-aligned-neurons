{
 "cells": [
  {
   "cell_type": "code",
   "execution_count": null,
   "id": "bc1fe64b",
   "metadata": {},
   "outputs": [],
   "source": [
    "import torch\n",
    "import matplotlib.pyplot as plt\n",
    "\n",
    "plt.style.use('ggplot')\n",
    "plt.style.use('seaborn-v0_8-colorblind')\n",
    "\n",
    "from torchvision import models\n"
   ]
  },
  {
   "cell_type": "code",
   "execution_count": null,
   "id": "e23aea1a",
   "metadata": {},
   "outputs": [],
   "source": [
    "a = torch.load('model_checkpoints/custom_resnet50_random_split0.ckpt')\n",
    "b = torch.load('model_checkpoints/custom_resnet50_random_split1.ckpt')"
   ]
  },
  {
   "cell_type": "code",
   "execution_count": null,
   "id": "bf092f0c",
   "metadata": {},
   "outputs": [],
   "source": [
    "a.keys()"
   ]
  },
  {
   "cell_type": "code",
   "execution_count": null,
   "id": "b5b615c0",
   "metadata": {},
   "outputs": [],
   "source": [
    "for k in a['state_dict']:\n",
    "    print(k)\n",
    "    print( (a['state_dict'][k] - b['state_dict'][k]).abs().max().item())"
   ]
  },
  {
   "cell_type": "code",
   "execution_count": null,
   "id": "e6c2e84a",
   "metadata": {},
   "outputs": [],
   "source": [
    "a['state_dict']['model.fc.bias'].shape[0]"
   ]
  },
  {
   "cell_type": "code",
   "execution_count": null,
   "id": "8ec6aae0",
   "metadata": {},
   "outputs": [],
   "source": [
    "all_layer_similarities = torch.load('my_data/resnet34/all_layer_similarities.pt')\n",
    "all_layer_similarities"
   ]
  },
  {
   "cell_type": "code",
   "execution_count": null,
   "id": "3e095464",
   "metadata": {},
   "outputs": [],
   "source": [
    "pcn_shapes = [sim['pc_given_n'].shape for sim in all_layer_similarities]\n",
    "pcn_shapes"
   ]
  },
  {
   "cell_type": "code",
   "execution_count": null,
   "id": "2c2a4635",
   "metadata": {},
   "outputs": [],
   "source": [
    "pcn = all_layer_similarities[-1]['pc_given_n']"
   ]
  },
  {
   "cell_type": "code",
   "execution_count": null,
   "id": "c9489406",
   "metadata": {},
   "outputs": [],
   "source": [
    "pcn[0]"
   ]
  },
  {
   "cell_type": "code",
   "execution_count": null,
   "id": "85ddd99d",
   "metadata": {},
   "outputs": [],
   "source": [
    "plt.plot(pcn[10])"
   ]
  },
  {
   "cell_type": "code",
   "execution_count": null,
   "id": "8d4d4b27",
   "metadata": {},
   "outputs": [],
   "source": [
    "##GoogLeNet\n",
    "\n",
    "weights = models.GoogLeNet_Weights.IMAGENET1K_V1                                                                                  \n",
    "# preprocess = weights.transforms()\n",
    "model = models.googlenet(weights=weights)"
   ]
  },
  {
   "cell_type": "code",
   "execution_count": null,
   "id": "5a8b3537",
   "metadata": {},
   "outputs": [],
   "source": [
    "layers='conv1,conv2,conv3,inception3a,inception3b,inception4a,inception4b,inception4c,inception4d,inception4e,inception5a,inception5b'"
   ]
  },
  {
   "cell_type": "code",
   "execution_count": null,
   "id": "f681da50",
   "metadata": {},
   "outputs": [],
   "source": [
    "weights = models.ResNet50_Weights.IMAGENET1K_V1                                                                                  \n",
    "model = models.resnet50(weights=weights)"
   ]
  },
  {
   "cell_type": "code",
   "execution_count": null,
   "id": "0cf540b5",
   "metadata": {},
   "outputs": [],
   "source": [
    "# model.layer1[0]"
   ]
  },
  {
   "cell_type": "code",
   "execution_count": null,
   "id": "55f762e3",
   "metadata": {},
   "outputs": [],
   "source": [
    "layers = ['conv1']+[\n",
    "    f'{layer}[{l1}]' \n",
    "    for layer in ['layer1', 'layer2', 'layer3', 'layer4']\n",
    "    for l1 in range(len(getattr(model, layer))) \n",
    "]\n",
    "\n",
    "\n",
    "# ','.join(layers)\n",
    "layers"
   ]
  },
  {
   "cell_type": "code",
   "execution_count": null,
   "id": "fe4996a8",
   "metadata": {},
   "outputs": [],
   "source": [
    "model.layer1[1]"
   ]
  },
  {
   "cell_type": "code",
   "execution_count": null,
   "id": "731a9858",
   "metadata": {},
   "outputs": [],
   "source": [
    "from PIL import Image\n",
    "\n",
    "\n",
    "# pil = Image.open('/home/lim38/dataset/imagenet-val/n03786901/ILSVRC2012_val_00003641.JPEG')\n",
    "pil = Image.open('/home/lim38/dataset/imagenet-val/n01440764/ILSVRC2012_val_00000293.JPEG')\n",
    "pil"
   ]
  },
  {
   "cell_type": "code",
   "execution_count": null,
   "id": "076e182c",
   "metadata": {},
   "outputs": [],
   "source": [
    "weights = models.ResNet50_Weights.IMAGENET1K_V1                                                                                  \n",
    "model = models.resnet50(weights=weights)\n",
    "transform = weights.transforms()\n"
   ]
  },
  {
   "cell_type": "code",
   "execution_count": null,
   "id": "7fa09015",
   "metadata": {},
   "outputs": [],
   "source": [
    "img = transform(pil)"
   ]
  },
  {
   "cell_type": "code",
   "execution_count": null,
   "id": "7e32c99b",
   "metadata": {},
   "outputs": [],
   "source": [
    "from inspect import getsource\n",
    "\n",
    "print(getsource(model._forward_impl))"
   ]
  },
  {
   "cell_type": "code",
   "execution_count": null,
   "id": "048e2d78",
   "metadata": {},
   "outputs": [],
   "source": [
    "x = img.unsqueeze(0)\n",
    "self = model\n",
    "\n",
    "\n",
    "x = self.conv1(x)\n",
    "x = self.bn1(x)\n",
    "x = self.relu(x)\n",
    "x = self.maxpool(x)\n",
    "\n",
    "x = self.layer1(x)\n",
    "x = self.layer2(x)\n",
    "x = self.layer3[:1](x)\n",
    "# x = self.layer4(x)\n",
    "\n",
    "# x = self.avgpool(x)\n",
    "# x = torch.flatten(x, 1)\n",
    "# x = self.fc(x)\n",
    "        "
   ]
  },
  {
   "cell_type": "code",
   "execution_count": null,
   "id": "53e6aecc",
   "metadata": {},
   "outputs": [],
   "source": [
    "## dead neurons in resnet50\n",
    "\n",
    "# for c in [89, 101, 214, 215]:\n",
    "for c in [291, 740]:\n",
    "    plt.imshow(x[0,c].detach().numpy())\n",
    "    plt.colorbar()\n",
    "    plt.show()"
   ]
  },
  {
   "cell_type": "code",
   "execution_count": null,
   "id": "e12e9caa",
   "metadata": {},
   "outputs": [],
   "source": [
    "resnet50.layer1[1] output\n",
    "channel 71, 202,\n",
    "\n",
    "class n03786901\n",
    "\n",
    "clip score for tench on class "
   ]
  },
  {
   "cell_type": "code",
   "execution_count": null,
   "id": "007d44b5",
   "metadata": {},
   "outputs": [],
   "source": []
  }
 ],
 "metadata": {
  "kernelspec": {
   "display_name": "Python 3 (ipykernel)",
   "language": "python",
   "name": "python3"
  },
  "language_info": {
   "codemirror_mode": {
    "name": "ipython",
    "version": 3
   },
   "file_extension": ".py",
   "mimetype": "text/x-python",
   "name": "python",
   "nbconvert_exporter": "python",
   "pygments_lexer": "ipython3",
   "version": "3.9.5"
  }
 },
 "nbformat": 4,
 "nbformat_minor": 5
}
