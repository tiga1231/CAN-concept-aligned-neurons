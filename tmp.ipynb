{
 "cells": [
  {
   "cell_type": "code",
   "execution_count": null,
   "id": "bc1fe64b",
   "metadata": {},
   "outputs": [],
   "source": [
    "import torch\n",
    "import matplotlib.pyplot as plt\n",
    "\n",
    "plt.style.use('ggplot')\n",
    "plt.style.use('seaborn-v0_8-colorblind')\n"
   ]
  },
  {
   "cell_type": "code",
   "execution_count": null,
   "id": "e23aea1a",
   "metadata": {},
   "outputs": [],
   "source": [
    "a = torch.load('model_checkpoints/custom_resnet50_random_split0.ckpt')\n",
    "b = torch.load('model_checkpoints/custom_resnet50_random_split1.ckpt')"
   ]
  },
  {
   "cell_type": "code",
   "execution_count": null,
   "id": "bf092f0c",
   "metadata": {},
   "outputs": [],
   "source": [
    "a.keys()"
   ]
  },
  {
   "cell_type": "code",
   "execution_count": null,
   "id": "b5b615c0",
   "metadata": {},
   "outputs": [],
   "source": [
    "for k in a['state_dict']:\n",
    "    print(k)\n",
    "    print( (a['state_dict'][k] - b['state_dict'][k]).abs().max().item())"
   ]
  },
  {
   "cell_type": "code",
   "execution_count": null,
   "id": "e6c2e84a",
   "metadata": {},
   "outputs": [],
   "source": [
    "a['state_dict']['model.fc.bias'].shape[0]"
   ]
  },
  {
   "cell_type": "code",
   "execution_count": null,
   "id": "8ec6aae0",
   "metadata": {},
   "outputs": [],
   "source": [
    "all_layer_similarities = torch.load('my_data/resnet34/all_layer_similarities.pt')\n",
    "all_layer_similarities"
   ]
  },
  {
   "cell_type": "code",
   "execution_count": null,
   "id": "3e095464",
   "metadata": {},
   "outputs": [],
   "source": [
    "pcn_shapes = [sim['pc_given_n'].shape for sim in all_layer_similarities]\n",
    "pcn_shapes"
   ]
  },
  {
   "cell_type": "code",
   "execution_count": null,
   "id": "2c2a4635",
   "metadata": {},
   "outputs": [],
   "source": [
    "pcn = all_layer_similarities[-1]['pc_given_n']"
   ]
  },
  {
   "cell_type": "code",
   "execution_count": null,
   "id": "c9489406",
   "metadata": {},
   "outputs": [],
   "source": [
    "pcn[0]"
   ]
  },
  {
   "cell_type": "code",
   "execution_count": null,
   "id": "85ddd99d",
   "metadata": {},
   "outputs": [],
   "source": [
    "plt.plot(pcn[10])"
   ]
  },
  {
   "cell_type": "code",
   "execution_count": null,
   "id": "8d4d4b27",
   "metadata": {},
   "outputs": [],
   "source": []
  }
 ],
 "metadata": {
  "kernelspec": {
   "display_name": "Python 3 (ipykernel)",
   "language": "python",
   "name": "python3"
  },
  "language_info": {
   "codemirror_mode": {
    "name": "ipython",
    "version": 3
   },
   "file_extension": ".py",
   "mimetype": "text/x-python",
   "name": "python",
   "nbconvert_exporter": "python",
   "pygments_lexer": "ipython3",
   "version": "3.8.10"
  }
 },
 "nbformat": 4,
 "nbformat_minor": 5
}
