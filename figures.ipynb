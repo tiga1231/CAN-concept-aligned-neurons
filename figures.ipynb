{
 "cells": [
  {
   "cell_type": "code",
   "execution_count": null,
   "id": "5e55be80-ebb2-42ca-b056-e8b943b283e1",
   "metadata": {},
   "outputs": [],
   "source": [
    "import torch\n",
    "import numpy as np\n",
    "from umap import UMAP\n",
    "\n",
    "from tqdm.auto import tqdm\n",
    "import matplotlib.pyplot as plt\n",
    "from matplotlib import colormaps\n",
    "\n",
    "# import data_utils\n",
    "\n",
    "plt.style.use(\"ggplot\")\n",
    "plt.style.use(\"seaborn-v0_8-colorblind\")"
   ]
  },
  {
   "cell_type": "code",
   "execution_count": null,
   "id": "7d2d01c6-f270-491c-85d9-3c4456f63675",
   "metadata": {},
   "outputs": [],
   "source": [
    "import json"
   ]
  },
  {
   "cell_type": "code",
   "execution_count": null,
   "id": "e125cf03-cb0c-45ca-959d-dfe36bc2d503",
   "metadata": {},
   "outputs": [],
   "source": [
    "with open('architecture-animal-vs-artifact.json') as f:\n",
    "    data = json.load(f)"
   ]
  },
  {
   "cell_type": "code",
   "execution_count": null,
   "id": "253e3eec-3a6a-423d-bdd0-472ed78b2422",
   "metadata": {},
   "outputs": [],
   "source": [
    "x = np.array([d['prob']['resnet50_layer4[2]'] for d in data])\n",
    "y = np.array([d['prob']['vit_b_16_encoder.layers.encoder_layer_11'] for d in data])"
   ]
  },
  {
   "cell_type": "code",
   "execution_count": null,
   "id": "cb3ba1b6-4113-4292-b42e-ddb7b9427607",
   "metadata": {},
   "outputs": [],
   "source": [
    "c = np.array([d['category']=='animals' for d in data])\n"
   ]
  },
  {
   "cell_type": "code",
   "execution_count": null,
   "id": "ab1caea9-490d-4e17-8a98-9252d813be59",
   "metadata": {},
   "outputs": [],
   "source": []
  },
  {
   "cell_type": "code",
   "execution_count": null,
   "id": "bf2a9b72-9a5d-4a2d-a458-2fde6fb93373",
   "metadata": {},
   "outputs": [],
   "source": [
    "fig = plt.figure(figsize=[6,6], dpi=400)\n",
    "ax = plt.subplot(1,1,1)\n",
    "plt.plot([0,0.2], [0,0.2], color='#fff', zorder=1, lw=1)\n",
    "plt.scatter(x[~c], y[~c], c='#377eb8', s=10, label='artifact', marker='x', lw=1)\n",
    "plt.scatter(x[c], y[c], c='#4daf4a', s=10, label='animals', marker='.', lw=1)\n",
    "plt.xlabel('resnet50_layer4[2]')\n",
    "plt.ylabel('vit_b_16_encoder.layers.encoder_layer_11')\n",
    "plt.legend()\n",
    "ax.yaxis.set_label_position(\"right\")\n",
    "ax.yaxis.tick_right()\n",
    "\n",
    "plt.axis('equal')"
   ]
  },
  {
   "cell_type": "code",
   "execution_count": null,
   "id": "a255f8f1-4e97-4818-8fba-d1e6ab1e96d7",
   "metadata": {},
   "outputs": [],
   "source": []
  }
 ],
 "metadata": {
  "kernelspec": {
   "display_name": "Python 3 (ipykernel)",
   "language": "python",
   "name": "python3"
  },
  "language_info": {
   "codemirror_mode": {
    "name": "ipython",
    "version": 3
   },
   "file_extension": ".py",
   "mimetype": "text/x-python",
   "name": "python",
   "nbconvert_exporter": "python",
   "pygments_lexer": "ipython3",
   "version": "3.10.13"
  }
 },
 "nbformat": 4,
 "nbformat_minor": 5
}
