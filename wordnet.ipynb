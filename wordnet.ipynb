{
 "cells": [
  {
   "cell_type": "code",
   "execution_count": null,
   "id": "1748ac8f",
   "metadata": {},
   "outputs": [],
   "source": [
    "import spacy\n",
    "from spacy_wordnet.wordnet_annotator import WordnetAnnotator "
   ]
  },
  {
   "cell_type": "code",
   "execution_count": null,
   "id": "e4cae31e",
   "metadata": {},
   "outputs": [],
   "source": [
    "# # SpaCy uses nltk to handle wordnet\n",
    "# !pip install nltk\n",
    "# import nltk\n",
    "# nltk.download('wordnet')\n",
    "\n",
    "# !pip install spacy spacy-wordnet\n",
    "# !python -m spacy download en_core_web_sm"
   ]
  },
  {
   "cell_type": "code",
   "execution_count": null,
   "id": "c1df0d36",
   "metadata": {},
   "outputs": [],
   "source": [
    "nlp('prices asd asd')"
   ]
  },
  {
   "cell_type": "code",
   "execution_count": null,
   "id": "116ee08f",
   "metadata": {},
   "outputs": [],
   "source": [
    "# Load a spaCy model (supported languages are \"es\" and \"en\") \n",
    "nlp = spacy.load('en_core_web_sm')\n",
    "nlp.add_pipe(\"spacy_wordnet\", after='tagger')"
   ]
  },
  {
   "cell_type": "code",
   "execution_count": null,
   "id": "a2e13d90",
   "metadata": {},
   "outputs": [],
   "source": [
    "token = nlp('dog')[0]"
   ]
  },
  {
   "cell_type": "code",
   "execution_count": null,
   "id": "2a283726",
   "metadata": {},
   "outputs": [],
   "source": [
    "token._.wordnet.synsets()"
   ]
  },
  {
   "cell_type": "code",
   "execution_count": null,
   "id": "eaf2364b",
   "metadata": {},
   "outputs": [],
   "source": [
    "token._.wordnet.lemmas()"
   ]
  },
  {
   "cell_type": "code",
   "execution_count": null,
   "id": "d8fdc9b8",
   "metadata": {},
   "outputs": [],
   "source": [
    "token._.wordnet.wordnet_domains()"
   ]
  },
  {
   "cell_type": "code",
   "execution_count": null,
   "id": "038a4dd3",
   "metadata": {},
   "outputs": [],
   "source": [
    "# WordNet object links spaCy token with NLTK WordNet interface by giving access to\n",
    "# synsets and lemmas \n",
    "token._.wordnet.synsets()\n",
    "token._.wordnet.lemmas()\n",
    "\n",
    "# And automatically add info about WordNet domains\n",
    "token._.wordnet.wordnet_domains()"
   ]
  },
  {
   "cell_type": "code",
   "execution_count": null,
   "id": "ecee2c7d",
   "metadata": {},
   "outputs": [],
   "source": []
  }
 ],
 "metadata": {
  "kernelspec": {
   "display_name": "Python 3 (ipykernel)",
   "language": "python",
   "name": "python3"
  },
  "language_info": {
   "codemirror_mode": {
    "name": "ipython",
    "version": 3
   },
   "file_extension": ".py",
   "mimetype": "text/x-python",
   "name": "python",
   "nbconvert_exporter": "python",
   "pygments_lexer": "ipython3",
   "version": "3.8.10"
  }
 },
 "nbformat": 4,
 "nbformat_minor": 5
}
