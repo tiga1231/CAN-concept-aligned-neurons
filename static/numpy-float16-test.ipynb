{
 "cells": [
  {
   "cell_type": "code",
   "execution_count": null,
   "id": "018460ba",
   "metadata": {},
   "outputs": [],
   "source": [
    "import numpy as np"
   ]
  },
  {
   "cell_type": "code",
   "execution_count": null,
   "id": "7e5b4ac8",
   "metadata": {},
   "outputs": [],
   "source": [
    "a = np.random.randn(100,10).astype(np.float16)"
   ]
  },
  {
   "cell_type": "code",
   "execution_count": null,
   "id": "53eb0b82",
   "metadata": {},
   "outputs": [],
   "source": [
    "np.save('a.npy', a)"
   ]
  },
  {
   "cell_type": "code",
   "execution_count": null,
   "id": "0cd75b2b",
   "metadata": {},
   "outputs": [],
   "source": [
    "a_load = np.load('a.npy')"
   ]
  },
  {
   "cell_type": "code",
   "execution_count": null,
   "id": "2c09f964",
   "metadata": {},
   "outputs": [],
   "source": [
    "a_load"
   ]
  },
  {
   "cell_type": "code",
   "execution_count": null,
   "id": "5ba46d14",
   "metadata": {},
   "outputs": [],
   "source": []
  }
 ],
 "metadata": {
  "kernelspec": {
   "display_name": "Python 3 (ipykernel)",
   "language": "python",
   "name": "python3"
  },
  "language_info": {
   "codemirror_mode": {
    "name": "ipython",
    "version": 3
   },
   "file_extension": ".py",
   "mimetype": "text/x-python",
   "name": "python",
   "nbconvert_exporter": "python",
   "pygments_lexer": "ipython3",
   "version": "3.10.12"
  }
 },
 "nbformat": 4,
 "nbformat_minor": 5
}
